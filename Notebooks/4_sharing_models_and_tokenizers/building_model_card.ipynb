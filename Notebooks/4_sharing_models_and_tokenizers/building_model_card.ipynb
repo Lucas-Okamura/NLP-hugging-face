{
  "nbformat": 4,
  "nbformat_minor": 0,
  "metadata": {
    "colab": {
      "provenance": [],
      "authorship_tag": "ABX9TyNP4ICwqIltV17Ty9zvxa6a",
      "include_colab_link": true
    },
    "kernelspec": {
      "name": "python3",
      "display_name": "Python 3"
    },
    "language_info": {
      "name": "python"
    }
  },
  "cells": [
    {
      "cell_type": "markdown",
      "metadata": {
        "id": "view-in-github",
        "colab_type": "text"
      },
      "source": [
        "<a href=\"https://colab.research.google.com/github/Lucas-Okamura/NLP-hugging-face/blob/main/Notebooks/4_sharing_models_and_tokenizers/building_model_card.ipynb\" target=\"_parent\"><img src=\"https://colab.research.google.com/assets/colab-badge.svg\" alt=\"Open In Colab\"/></a>"
      ]
    },
    {
      "cell_type": "markdown",
      "source": [
        "# Sharing Models and Tokenizers\n",
        "\n",
        "## Building a model card\n",
        "\n",
        "The model card is a file which is arguably as important as the model and tokenizer files in a model repository. It is the central definition of the model, ensuring reusability by fellow community members and reproducibility of results, and providing a platform on which other members may build their artifacts.\n",
        "\n",
        "Documenting the training and evaluation process helps others understand what to expect of a model — and providing sufficient information regarding the data that was used and the preprocessing and postprocessing that were done ensures that the limitations, biases, and contexts in which the model is and is not useful can be identified and understood.\n",
        "\n",
        "Therefore, creating a model card that clearly defines your model is a very important step. Here, we provide some tips that will help you with this. Creating the model card is done through the README.md file you saw earlier, which is a Markdown file.\n",
        "\n",
        "The “model card” concept originates from a research direction from Google, first shared in the paper “Model Cards for Model Reporting” by Margaret Mitchell et al. A lot of information contained here is based on that paper, and we recommend you take a look at it to understand why model cards are so important in a world that values reproducibility, reusability, and fairness.\n",
        "\n",
        "The model card usually starts with a very brief, high-level overview of what the model is for, followed by additional details in the following sections:\n",
        "\n",
        "* Model description\n",
        "* Intended uses & limitations\n",
        "* How to use\n",
        "* Limitations and bias\n",
        "* Training data\n",
        "* Training procedure\n",
        "* Evaluation results\n",
        "\n",
        "Let’s take a look at what each of these sections should contain.\n",
        "\n",
        "### Model description\n",
        "The model description provides basic details about the model. This includes the architecture, version, if it was introduced in a paper, if an original implementation is available, the author, and general information about the model. Any copyright should be attributed here. General information about training procedures, parameters, and important disclaimers can also be mentioned in this section.\n",
        "\n",
        "### Intended uses & limitations\n",
        "Here you describe the use cases the model is intended for, including the languages, fields, and domains where it can be applied. This section of the model card can also document areas that are known to be out of scope for the model, or where it is likely to perform suboptimally.\n",
        "\n",
        "### How to use\n",
        "This section should include some examples of how to use the model. This can showcase usage of the `pipeline()` function, usage of the model and tokenizer classes, and any other code you think might be helpful.\n",
        "\n",
        "### Training data\n",
        "This part should indicate which dataset(s) the model was trained on. A brief description of the dataset(s) is also welcome.\n",
        "\n",
        "### Training procedure\n",
        "In this section you should describe all the relevant aspects of training that are useful from a reproducibility perspective. This includes any preprocessing and postprocessing that were done on the data, as well as details such as the number of epochs the model was trained for, the batch size, the learning rate, and so on.\n",
        "\n",
        "### Variable and metrics\n",
        "Here you should describe the metrics you use for evaluation, and the different factors you are mesuring. Mentioning which metric(s) were used, on which dataset and which dataset split, makes it easy to compare you model’s performance compared to that of other models. These should be informed by the previous sections, such as the intended users and use cases.\n",
        "\n",
        "### Evaluation results\n",
        "Finally, provide an indication of how well the model performs on the evaluation dataset. If the model uses a decision threshold, either provide the decision threshold used in the evaluation, or provide details on evaluation at different thresholds for the intended uses.\n",
        "\n",
        "### Example\n",
        "Check out the following for a few examples of well-crafted model cards:\n",
        "\n",
        "* bert-base-cased\n",
        "* gpt2\n",
        "* distilbert\n",
        "\n",
        "### Note\n",
        "Model cards are not a requirement when publishing models, and you don’t need to include all of the sections described above when you make one. However, explicit documentation of the model can only benefit future users, so we recommend that you fill in as many of the sections as possible to the best of your knowledge and ability.\n",
        "\n",
        "### Model card metadata\n",
        "If you have done a little exploring of the Hugging Face Hub, you should have seen that some models belong to certain categories: you can filter them by tasks, languages, libraries, and more. The categories a model belongs to are identified according to the metadata you add in the model card header.\n",
        "\n",
        "For example, if you take a look at the camembert-base model card, you should see the following lines in the model card header:\n",
        "\n",
        "```\n",
        "---\n",
        "language: fr\n",
        "license: mit\n",
        "datasets:\n",
        "- oscar\n",
        "---\n",
        "```\n",
        "\n",
        "This metadata is parsed by the Hugging Face Hub, which then identifies this model as being a French model, with an MIT license, trained on the Oscar dataset.\n",
        "\n",
        "The full model card specification allows specifying languages, licenses, tags, datasets, metrics, as well as the evaluation results the model obtained when training."
      ],
      "metadata": {
        "id": "nylBNuu1iL7G"
      }
    }
  ]
}